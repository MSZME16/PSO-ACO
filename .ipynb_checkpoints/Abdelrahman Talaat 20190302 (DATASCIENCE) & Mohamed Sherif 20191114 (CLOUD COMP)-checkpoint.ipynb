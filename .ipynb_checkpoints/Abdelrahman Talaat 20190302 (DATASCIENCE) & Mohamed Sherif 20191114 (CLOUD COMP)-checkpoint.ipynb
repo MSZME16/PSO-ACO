{
 "cells": [
  {
   "cell_type": "code",
   "execution_count": 1,
   "id": "e23c5808",
   "metadata": {},
   "outputs": [],
   "source": [
    "import random\n",
    "import numpy as np\n",
    "from matplotlib import pyplot as plt\n",
    "from matplotlib import animation\n",
    "import pandas as pd"
   ]
  },
  {
   "cell_type": "code",
   "execution_count": 2,
   "id": "74532bf3",
   "metadata": {},
   "outputs": [],
   "source": [
    "def is_point_above(x0,y0,angle):\n",
    "    #x0 and y0 are the new point\n",
    "    return y0>angle*x0\n",
    "\n",
    "def fitness_function(x,y):\n",
    "    angle = x/y\n",
    "    normalized_df['colour'] = np.where(is_point_above(normalized_df['price'],normalized_df['lotsize'],angle), -1, 1)\n",
    "    return abs(normalized_df.colour.sum())"
   ]
  },
  {
   "cell_type": "code",
   "execution_count": 3,
   "id": "4ce12167",
   "metadata": {},
   "outputs": [],
   "source": [
    "def update_position(particle, velocity):\n",
    "  # Move particles by adding velocity\n",
    "  new_particle = particle + velocity\n",
    "  return new_particle"
   ]
  },
  {
   "cell_type": "code",
   "execution_count": 4,
   "id": "5f9781fd",
   "metadata": {},
   "outputs": [],
   "source": [
    "def update_velocity(particle, velocity, pbest, gbest, w_min=0.5, max=1.0, c=0.1):\n",
    "  # Initialise new velocity array\n",
    "  num_particle = len(particle)\n",
    "  new_velocity = np.array([0.0 for i in range(num_particle)])\n",
    "  # Randomly generate r1, r2 and inertia weight from normal distribution\n",
    "  r1 = random.uniform(0,max)\n",
    "  r2 = random.uniform(0,max)\n",
    "  w = random.uniform(w_min,max)\n",
    "  c1 = c\n",
    "  c2 = c\n",
    "  # Calculate new velocity\n",
    "  for i in range(num_particle):\n",
    "    new_velocity[i] = w*velocity[i] + c1*r1*(pbest[i]-particle[i])+c2*r2*(gbest[i]-particle[i])\n",
    "  return new_velocity"
   ]
  },
  {
   "cell_type": "code",
   "execution_count": 5,
   "id": "b986d596",
   "metadata": {},
   "outputs": [],
   "source": [
    "def pso_2d(population, dimension, position_min, position_max, generation, fitness_criterion):\n",
    "  # Initialisation\n",
    "  # Population\n",
    "  particles = [[random.uniform(position_min, position_max) for j in range(dimension)] for i in range(population)]\n",
    "  # Particle's best position\n",
    "  pbest_position = particles\n",
    "  # Fitness\n",
    "  pbest_fitness = [fitness_function(p[0],p[1]) for p in particles]\n",
    "  # Index of the best particle\n",
    "  gbest_index = np.argmin(pbest_fitness)\n",
    "  # Global best particle position\n",
    "  gbest_position = pbest_position[gbest_index]\n",
    "  # Velocity (starting from 0 speed)\n",
    "  velocity = [[0.0 for j in range(dimension)] for i in range(population)]\n",
    "  \n",
    "  # Loop for the number of generation\n",
    "  for t in range(generation):\n",
    "    # Stop if the average fitness value reached a predefined success criterion\n",
    "    if np.average(pbest_fitness) <= fitness_criterion:\n",
    "      break\n",
    "    else:\n",
    "      for n in range(population):\n",
    "        # Update the velocity of each particle\n",
    "        velocity[n] = update_velocity(particles[n], velocity[n], pbest_position[n], gbest_position)\n",
    "        # Move the particles to new position\n",
    "        particles[n] = update_position(particles[n], velocity[n])\n",
    "    # Calculate the fitness value\n",
    "    pbest_fitness = [fitness_function(p[0],p[1]) for p in particles]\n",
    "    # Find the index of the best particle\n",
    "    gbest_index = np.argmin(pbest_fitness)\n",
    "    # Update the position of the best particle\n",
    "    gbest_position = pbest_position[gbest_index]\n",
    "\n",
    "  # Print the results\n",
    "  print('Global Best Position: ', gbest_position)\n",
    "  print('Best Fitness Value: ', min(pbest_fitness))\n",
    "  print('Average Particle Best Fitness Value: ', np.average(pbest_fitness))\n",
    "  print('Number of Generation: ', t)\n",
    "  return gbest_position"
   ]
  },
  {
   "cell_type": "code",
   "execution_count": 6,
   "id": "ce32c418",
   "metadata": {
    "scrolled": false
   },
   "outputs": [
    {
     "data": {
      "text/html": [
       "<div>\n",
       "<style scoped>\n",
       "    .dataframe tbody tr th:only-of-type {\n",
       "        vertical-align: middle;\n",
       "    }\n",
       "\n",
       "    .dataframe tbody tr th {\n",
       "        vertical-align: top;\n",
       "    }\n",
       "\n",
       "    .dataframe thead th {\n",
       "        text-align: right;\n",
       "    }\n",
       "</style>\n",
       "<table border=\"1\" class=\"dataframe\">\n",
       "  <thead>\n",
       "    <tr style=\"text-align: right;\">\n",
       "      <th></th>\n",
       "      <th>price</th>\n",
       "      <th>lotsize</th>\n",
       "    </tr>\n",
       "  </thead>\n",
       "  <tbody>\n",
       "    <tr>\n",
       "      <th>0</th>\n",
       "      <td>42000.0</td>\n",
       "      <td>5850</td>\n",
       "    </tr>\n",
       "    <tr>\n",
       "      <th>1</th>\n",
       "      <td>38500.0</td>\n",
       "      <td>4000</td>\n",
       "    </tr>\n",
       "    <tr>\n",
       "      <th>2</th>\n",
       "      <td>49500.0</td>\n",
       "      <td>3060</td>\n",
       "    </tr>\n",
       "    <tr>\n",
       "      <th>3</th>\n",
       "      <td>60500.0</td>\n",
       "      <td>6650</td>\n",
       "    </tr>\n",
       "    <tr>\n",
       "      <th>4</th>\n",
       "      <td>61000.0</td>\n",
       "      <td>6360</td>\n",
       "    </tr>\n",
       "  </tbody>\n",
       "</table>\n",
       "</div>"
      ],
      "text/plain": [
       "     price  lotsize\n",
       "0  42000.0     5850\n",
       "1  38500.0     4000\n",
       "2  49500.0     3060\n",
       "3  60500.0     6650\n",
       "4  61000.0     6360"
      ]
     },
     "execution_count": 6,
     "metadata": {},
     "output_type": "execute_result"
    }
   ],
   "source": [
    "df =pd.read_csv('Housing.csv')\n",
    "df = df[['price','lotsize']]\n",
    "df_np = df.to_numpy()\n",
    "df.head()"
   ]
  },
  {
   "cell_type": "markdown",
   "id": "f0b8fb21",
   "metadata": {},
   "source": [
    "If the line equation is y=ax+b\n",
    " and the coordinates of a point is (x0,y0)\n",
    " then compare y0\n",
    " and ax0+b\n",
    ", for example if y0>ax0+b\n",
    " then the point is above the line, etc."
   ]
  },
  {
   "cell_type": "code",
   "execution_count": 7,
   "id": "58dcfa3e",
   "metadata": {},
   "outputs": [],
   "source": [
    "normalized_df=(df-df.min())/(df.max()-df.min())"
   ]
  },
  {
   "cell_type": "code",
   "execution_count": 8,
   "id": "4661319e",
   "metadata": {},
   "outputs": [
    {
     "data": {
      "text/html": [
       "<div>\n",
       "<style scoped>\n",
       "    .dataframe tbody tr th:only-of-type {\n",
       "        vertical-align: middle;\n",
       "    }\n",
       "\n",
       "    .dataframe tbody tr th {\n",
       "        vertical-align: top;\n",
       "    }\n",
       "\n",
       "    .dataframe thead th {\n",
       "        text-align: right;\n",
       "    }\n",
       "</style>\n",
       "<table border=\"1\" class=\"dataframe\">\n",
       "  <thead>\n",
       "    <tr style=\"text-align: right;\">\n",
       "      <th></th>\n",
       "      <th>price</th>\n",
       "      <th>lotsize</th>\n",
       "    </tr>\n",
       "  </thead>\n",
       "  <tbody>\n",
       "    <tr>\n",
       "      <th>0</th>\n",
       "      <td>0.103030</td>\n",
       "      <td>0.288660</td>\n",
       "    </tr>\n",
       "    <tr>\n",
       "      <th>1</th>\n",
       "      <td>0.081818</td>\n",
       "      <td>0.161512</td>\n",
       "    </tr>\n",
       "    <tr>\n",
       "      <th>2</th>\n",
       "      <td>0.148485</td>\n",
       "      <td>0.096907</td>\n",
       "    </tr>\n",
       "    <tr>\n",
       "      <th>3</th>\n",
       "      <td>0.215152</td>\n",
       "      <td>0.343643</td>\n",
       "    </tr>\n",
       "    <tr>\n",
       "      <th>4</th>\n",
       "      <td>0.218182</td>\n",
       "      <td>0.323711</td>\n",
       "    </tr>\n",
       "  </tbody>\n",
       "</table>\n",
       "</div>"
      ],
      "text/plain": [
       "      price   lotsize\n",
       "0  0.103030  0.288660\n",
       "1  0.081818  0.161512\n",
       "2  0.148485  0.096907\n",
       "3  0.215152  0.343643\n",
       "4  0.218182  0.323711"
      ]
     },
     "execution_count": 8,
     "metadata": {},
     "output_type": "execute_result"
    }
   ],
   "source": [
    "normalized_df.head()"
   ]
  },
  {
   "cell_type": "code",
   "execution_count": 9,
   "id": "663cbe36",
   "metadata": {},
   "outputs": [
    {
     "name": "stdout",
     "output_type": "stream",
     "text": [
      "Global Best Position:  [6.18626216 6.9444482 ]\n",
      "Best Fitness Value:  0\n",
      "Average Particle Best Fitness Value:  0.0\n",
      "Number of Generation:  56\n"
     ]
    }
   ],
   "source": [
    "population = 200\n",
    "dimension = 2\n",
    "position_min = 0\n",
    "position_max = 10\n",
    "generation = 700\n",
    "fitness_criterion = 0\n",
    "best = pso_2d(population, dimension, position_min, position_max, generation, fitness_criterion)\n",
    "best_angle = best[0]/best[1]"
   ]
  },
  {
   "cell_type": "code",
   "execution_count": 10,
   "id": "1031f199",
   "metadata": {},
   "outputs": [],
   "source": [
    "normalized_df['colour'] = np.where(is_point_above(normalized_df['price'],normalized_df['lotsize'],best_angle), -1, 1)"
   ]
  },
  {
   "cell_type": "code",
   "execution_count": 11,
   "id": "f5bdd4df",
   "metadata": {
    "scrolled": false
   },
   "outputs": [
    {
     "data": {
      "image/png": "[encoded data removed]",
      "text/plain": [
       "<Figure size 640x480 with 2 Axes>"
      ]
     },
     "metadata": {},
     "output_type": "display_data"
    }
   ],
   "source": [
    "normalized_df.plot.scatter(x= 'price', y= 'lotsize', c = 'colour',colormap=\"Wistia\");"
   ]
  },
  {
   "cell_type": "markdown",
   "id": "a1f0665a",
   "metadata": {},
   "source": [
    "# In a cloud environment each computer will work on the task using different values which are randomized in the original PSO function , we will simulate that using multi threading as if each thread is a different cloud computer\n",
    "\n",
    "### the following code is a simulation of 4 different VMs working on the same task"
   ]
  },
  {
   "cell_type": "code",
   "execution_count": 12,
   "id": "6ad8ac1e",
   "metadata": {},
   "outputs": [
    {
     "name": "stdout",
     "output_type": "stream",
     "text": [
      "Global Best Position:  [6.22913509 6.99290441]\n",
      "Best Fitness Value:  0\n",
      "Average Particle Best Fitness Value:  0.0\n",
      "Number of Generation:  53\n",
      "Global Best Position:  [ 8.92005648 10.02097587]\n",
      "Best Fitness Value:  0\n",
      "Average Particle Best Fitness Value:  0.0\n",
      "Number of Generation:  52\n",
      "Global Best Position:  [7.78341998 8.77390548]\n",
      "Best Fitness Value:  0\n",
      "Average Particle Best Fitness Value:  0.0\n",
      "Number of Generation:  55\n",
      "Global Best Position:  [3.37409961 3.78013933]\n",
      "Best Fitness Value:  0\n",
      "Average Particle Best Fitness Value:  0.0\n",
      "Number of Generation:  69\n"
     ]
    }
   ],
   "source": [
    "import threading\n",
    "\n",
    "def virtual_machine():\n",
    "    population = 200\n",
    "    dimension = 2\n",
    "    position_min = 0\n",
    "    position_max = 10\n",
    "    generation = 700\n",
    "    fitness_criterion = 0\n",
    "    best = pso_2d(population, dimension, position_min, position_max, generation, fitness_criterion)\n",
    "    best_angle = best[0]/best[1]\n",
    "\n",
    "cloud = []\n",
    "for i in range(4):\n",
    "    t = threading.Thread(target=virtual_machine)\n",
    "    cloud.append(t)\n",
    "    t.start()\n",
    "\n",
    "for t in cloud:\n",
    "    t.join()"
   ]
  },
  {
   "cell_type": "code",
   "execution_count": 8,
   "id": "deb86237",
   "metadata": {},
   "outputs": [],
   "source": [
    "import random as rn\n",
    "import numpy as np\n",
    "from numpy.random import choice as np_choice\n",
    "\n",
    "class AntColony(object):\n",
    "\n",
    "    def __init__(self, distances, n_ants, n_best, n_iterations, decay, alpha=1, beta=1):\n",
    "        \"\"\"\n",
    "        Args:\n",
    "            distances (2D numpy.array): Square matrix of distances. Diagonal is assumed to be np.inf.\n",
    "            n_ants (int): Number of ants running per iteration\n",
    "            n_best (int): Number of best ants who deposit pheromone\n",
    "            n_iteration (int): Number of iterations\n",
    "            decay (float): Rate it which pheromone decays. The pheromone value is multiplied by decay, so 0.95 will lead to decay, 0.5 to much faster decay.\n",
    "            alpha (int or float): exponenet on pheromone, higher alpha gives pheromone more weight. Default=1\n",
    "            beta (int or float): exponent on distance, higher beta give distance more weight. Default=1\n",
    "\n",
    "        Example:\n",
    "            ant_colony = AntColony(german_distances, 100, 20, 2000, 0.95, alpha=1, beta=2)          \n",
    "        \"\"\"\n",
    "        self.distances  = distances\n",
    "        self.pheromone = np.ones(self.distances.shape) / len(distances)\n",
    "        self.all_inds = range(len(distances))\n",
    "        self.n_ants = n_ants\n",
    "        self.n_best = n_best\n",
    "        self.n_iterations = n_iterations\n",
    "        self.decay = decay\n",
    "        self.alpha = alpha\n",
    "        self.beta = beta\n",
    "\n",
    "    def run(self):\n",
    "        shortest_path = None\n",
    "        all_time_shortest_path = (\"placeholder\", np.inf)\n",
    "        for i in range(self.n_iterations):\n",
    "            all_paths = self.gen_all_paths()\n",
    "            self.spread_pheronome(all_paths, self.n_best, shortest_path=shortest_path)\n",
    "            shortest_path = min(all_paths, key=lambda x: x[1])\n",
    "#             print (shortest_path)\n",
    "            if shortest_path[1] < all_time_shortest_path[1]:\n",
    "                all_time_shortest_path = shortest_path            \n",
    "            self.pheromone = self.pheromone * self.decay            \n",
    "        return all_time_shortest_path\n",
    "\n",
    "    def spread_pheronome(self, all_paths, n_best, shortest_path):\n",
    "        sorted_paths = sorted(all_paths, key=lambda x: x[1])\n",
    "        for path, dist in sorted_paths[:n_best]:\n",
    "            for move in path:\n",
    "                self.pheromone[move] += 1.0 / self.distances[move]\n",
    "\n",
    "    def gen_path_dist(self, path):\n",
    "        total_dist = 0\n",
    "        for ele in path:\n",
    "            total_dist += self.distances[ele]\n",
    "        return total_dist\n",
    "\n",
    "    def gen_all_paths(self):\n",
    "        all_paths = []\n",
    "        for i in range(self.n_ants):\n",
    "            path = self.gen_path(0)\n",
    "            all_paths.append((path, self.gen_path_dist(path)))\n",
    "        return all_paths\n",
    "\n",
    "    def gen_path(self, start):\n",
    "        path = []\n",
    "        visited = set()\n",
    "        visited.add(start)\n",
    "        prev = start\n",
    "        for i in range(len(self.distances) - 1):\n",
    "            move = self.pick_move(self.pheromone[prev], self.distances[prev], visited)\n",
    "            path.append((prev, move))\n",
    "            prev = move\n",
    "            visited.add(move)\n",
    "        path.append((prev, start)) # going back to where we started    \n",
    "        return path\n",
    "\n",
    "    def pick_move(self, pheromone, dist, visited):\n",
    "        pheromone = np.copy(pheromone)\n",
    "        pheromone[list(visited)] = 0\n",
    "\n",
    "        row = pheromone ** self.alpha * (( 1.0 / dist) ** self.beta)\n",
    "\n",
    "        norm_row = row / row.sum()\n",
    "        move = np_choice(self.all_inds, 1, p=norm_row)[0]\n",
    "        return move\n",
    "\n"
   ]
  },
  {
   "cell_type": "code",
   "execution_count": 9,
   "id": "5ae04b03",
   "metadata": {},
   "outputs": [
    {
     "name": "stdout",
     "output_type": "stream",
     "text": [
      "shorted_path: ([(0, 1), (1, 4), (4, 3), (3, 2), (2, 0)], 9.0)\n"
     ]
    }
   ],
   "source": [
    "distances = np.array([[np.inf, 2, 2, 5, 7],\n",
    "                      [2, np.inf, 4, 8, 2],\n",
    "                      [2, 4, np.inf, 1, 3],\n",
    "                      [5, 8, 1, np.inf, 2],\n",
    "                      [7, 2, 3, 2, np.inf]])\n",
    "\n",
    "ant_colony = AntColony(distances, 1, 1, 100, 0.95, alpha=1, beta=1)\n",
    "shortest_path = ant_colony.run()\n",
    "print (\"shorted_path: {}\".format(shortest_path))\n"
   ]
  },
  {
   "cell_type": "code",
   "execution_count": 10,
   "id": "111776c9",
   "metadata": {},
   "outputs": [
    {
     "name": "stdout",
     "output_type": "stream",
     "text": [
      "(0, 1)\n",
      "2.0\n",
      "(1, 4)\n",
      "2.0\n",
      "(4, 3)\n",
      "2.0\n",
      "(3, 2)\n",
      "1.0\n",
      "(2, 0)\n",
      "2.0\n"
     ]
    }
   ],
   "source": [
    "for i in shortest_path[0]:\n",
    "    print(i)\n",
    "    x, y = int(i[0]),int(i[1])\n",
    "    print(distances[x,y])"
   ]
  },
  {
   "cell_type": "code",
   "execution_count": 11,
   "id": "c4b435c9",
   "metadata": {},
   "outputs": [],
   "source": [
    "import matplotlib.pyplot as plt"
   ]
  },
  {
   "cell_type": "code",
   "execution_count": 12,
   "id": "9b43afdc",
   "metadata": {},
   "outputs": [],
   "source": [
    "best_path = shortest_path[0]\n",
    "best_path_x = []\n",
    "best_path_y = []\n",
    "for x,y in best_path:\n",
    "    best_path_x+=[x]\n",
    "    best_path_y+=[y]"
   ]
  },
  {
   "cell_type": "code",
   "execution_count": 13,
   "id": "b8e3c74e",
   "metadata": {},
   "outputs": [
    {
     "data": {
      "image/png": "[encoded data removed]",
      "text/plain": [
       "<Figure size 640x480 with 1 Axes>"
      ]
     },
     "metadata": {},
     "output_type": "display_data"
    }
   ],
   "source": [
    "plt.plot(best_path_x, best_path_y)\n",
    "plt.scatter(best_path_x, best_path_y, color = 'red')\n",
    "plt.show()"
   ]
  }
 ],
 "metadata": {
  "kernelspec": {
   "display_name": "Python 3 (ipykernel)",
   "language": "python",
   "name": "python3"
  },
  "language_info": {
   "codemirror_mode": {
    "name": "ipython",
    "version": 3
   },
   "file_extension": ".py",
   "mimetype": "text/x-python",
   "name": "python",
   "nbconvert_exporter": "python",
   "pygments_lexer": "ipython3",
   "version": "3.8.16"
  }
 },
 "nbformat": 4,
 "nbformat_minor": 5
}
